{
 "cells": [
  {
   "cell_type": "code",
   "execution_count": 42,
   "id": "guided-column",
   "metadata": {},
   "outputs": [],
   "source": [
    "from sklearn import svm, tree, linear_model, neighbors\n",
    "from sklearn import naive_bayes, ensemble, discriminant_analysis, gaussian_process\n",
    "from sklearn.linear_model import LogisticRegression\n",
    "from sklearn.tree import DecisionTreeClassifier\n",
    "from sklearn.neighbors import KNeighborsClassifier\n",
    "from sklearn.discriminant_analysis import LinearDiscriminantAnalysis\n",
    "from sklearn.naive_bayes import GaussianNB\n",
    "from sklearn.svm import SVC\n",
    "from sklearn.neighbors import KNeighborsClassifier\n",
    "from sklearn.ensemble import RandomForestClassifier\n",
    "from sklearn import model_selection\n",
    "from sklearn import metrics\n",
    "from sklearn.model_selection import KFold\n",
    "from sklearn.model_selection import cross_val_score\n",
    "from sklearn.model_selection import GridSearchCV\n",
    "from sklearn.metrics import roc_curve"
   ]
  },
  {
   "cell_type": "code",
   "execution_count": 43,
   "id": "entertaining-armstrong",
   "metadata": {},
   "outputs": [],
   "source": [
    "import seaborn as sns\n",
    "import numpy as np\n",
    "import pandas as pd\n",
    "import datetime as dt\n",
    "import warnings\n",
    "import matplotlib.pyplot as plt\n",
    "import matplotlib\n",
    "\n",
    "# sklearn modules for performance metrics\n",
    "from sklearn.metrics import confusion_matrix, classification_report, precision_recall_curve\n",
    "from sklearn.metrics import auc, roc_auc_score, roc_curve, recall_score, log_loss\n",
    "from sklearn.metrics import f1_score, accuracy_score, roc_auc_score, make_scorer\n",
    "from sklearn.metrics import average_precision_score"
   ]
  },
  {
   "cell_type": "code",
   "execution_count": 62,
   "id": "welcome-cookie",
   "metadata": {},
   "outputs": [],
   "source": [
    "X_train = pd.read_csv('X_train.csv')\n",
    "X_test = pd.read_csv('X_test.csv')\n",
    "y_train = pd.read_csv('y_train.csv')\n",
    "y_test = pd.read_csv('y_test.csv')\n",
    "\n",
    "X_train = X_train.set_index('index')\n",
    "X_test = X_test.set_index('index')\n",
    "y_train = y_train.set_index('index').iloc[:,-1]\n",
    "y_test = y_test.set_index('index').iloc[:,-1]"
   ]
  },
  {
   "cell_type": "code",
   "execution_count": 63,
   "id": "psychological-protocol",
   "metadata": {},
   "outputs": [],
   "source": [
    "random_state = 42"
   ]
  },
  {
   "cell_type": "code",
   "execution_count": 64,
   "id": "lovely-mission",
   "metadata": {},
   "outputs": [],
   "source": [
    "# select baseline algorithm with default parameters\n",
    "models = []\n",
    "models.append(('Logistic Regression', LogisticRegression(solver='liblinear', random_state=random_state,class_weight='balanced')))\n",
    "models.append(('Random Forest', RandomForestClassifier(n_estimators=100, random_state=random_state)))\n",
    "models.append(('SVM', SVC(gamma='auto', random_state=random_state)))\n",
    "models.append(('KNN', KNeighborsClassifier()))\n",
    "models.append(('Decision Tree Classifier', DecisionTreeClassifier(random_state=random_state)))\n",
    "models.append(('Gaussian NB', GaussianNB()))"
   ]
  },
  {
   "cell_type": "code",
   "execution_count": 65,
   "id": "fatal-complement",
   "metadata": {},
   "outputs": [
    {
     "name": "stdout",
     "output_type": "stream",
     "text": [
      "                  Algorithm  ROC AUC Mean  ROC AUC STD  Accuracy Mean  \\\n",
      "1             Random Forest         99.98         0.01          99.68   \n",
      "3                       KNN         99.75         0.17          98.91   \n",
      "2                       SVM         98.99         0.16          97.02   \n",
      "4  Decision Tree Classifier         95.04         1.07          98.46   \n",
      "0       Logistic Regression         94.63         0.48          84.98   \n",
      "5               Gaussian NB         87.83         1.19          80.61   \n",
      "\n",
      "   Accuracy STD  \n",
      "1          0.15  \n",
      "3          0.33  \n",
      "2          0.38  \n",
      "4          0.24  \n",
      "0          1.04  \n",
      "5          0.61  \n"
     ]
    }
   ],
   "source": [
    "acc_rst = []\n",
    "auc_rst = []\n",
    "names = []\n",
    "\n",
    "df_results = pd.DataFrame(columns=['Algorithm', 'ROC AUC Mean', 'ROC AUC STD','Accuracy Mean', 'Accuracy STD'])\n",
    "i = 0\n",
    "\n",
    "# k fold cross-validation for evaluation\n",
    "for name, model in models:\n",
    "    kfold = model_selection.KFold(n_splits=5, \n",
    "                                  random_state=random_state, \n",
    "                                  shuffle=True\n",
    "                                 )\n",
    "\n",
    "    cv_acc = model_selection.cross_val_score(model, \n",
    "                                                     X_train, \n",
    "                                                     y_train, \n",
    "                                                     cv=kfold, \n",
    "                                                     scoring='accuracy'\n",
    "                                                    )\n",
    "\n",
    "    cv_auc = model_selection.cross_val_score(model, \n",
    "                                                     X_train, \n",
    "                                                     y_train, \n",
    "                                                     cv=kfold, \n",
    "                                                     scoring='roc_auc'\n",
    "                                                    )\n",
    "\n",
    "    acc_rst.append(cv_acc)\n",
    "    auc_rst.append(cv_auc)\n",
    "    names.append(name)\n",
    "    df_results.loc[i] = [name,\n",
    "                         round(cv_auc.mean()*100, 2),\n",
    "                         round(cv_auc.std()*100, 2),\n",
    "                         round(cv_acc.mean()*100, 2),\n",
    "                         round(cv_acc.std()*100, 2)\n",
    "                         ]\n",
    "    i += 1\n",
    "    \n",
    "print(df_results.sort_values(by=['ROC AUC Mean'], ascending=False))"
   ]
  },
  {
   "cell_type": "code",
   "execution_count": 67,
   "id": "fewer-asthma",
   "metadata": {},
   "outputs": [
    {
     "name": "stdout",
     "output_type": "stream",
     "text": [
      "LogisticRegression(C=0.11, class_weight='balanced', random_state=42,\n",
      "                   solver='liblinear')\n",
      "0.9380785703974983\n"
     ]
    }
   ],
   "source": [
    "# hyper-parameter list to fine-tune\n",
    "params = {'C': np.arange(0.01, 2, 0.1)} \n",
    "log_gs = GridSearchCV(LogisticRegression(solver='liblinear', \n",
    "                                         class_weight=\"balanced\",\n",
    "                                         random_state=random_state),\n",
    "                      return_train_score=True,\n",
    "                      param_grid=params,\n",
    "                      scoring='roc_auc',\n",
    "                      cv=5)\n",
    "\n",
    "log_grid = log_gs.fit(X_train, y_train)\n",
    "print(log_grid.best_estimator_)\n",
    "print(log_gs.best_score_)"
   ]
  },
  {
   "cell_type": "code",
   "execution_count": 68,
   "id": "resistant-speed",
   "metadata": {},
   "outputs": [
    {
     "data": {
      "text/plain": [
       "Text(0.5, 257.44, 'Predicted label')"
      ]
     },
     "execution_count": 68,
     "metadata": {},
     "output_type": "execute_result"
    },
    {
     "data": {
      "image/png": "[encoded data removed]",
      "text/plain": [
       "<Figure size 432x288 with 2 Axes>"
      ]
     },
     "metadata": {
      "needs_background": "light"
     },
     "output_type": "display_data"
    }
   ],
   "source": [
    "## Confusion Matrix\n",
    "cnf_matrix = metrics.confusion_matrix(y_test, log_opt.predict(X_test))\n",
    "class_names=[0,1]\n",
    "fig, ax = plt.subplots()\n",
    "tick_marks = np.arange(len(class_names))\n",
    "plt.xticks(tick_marks, class_names)\n",
    "plt.yticks(tick_marks, class_names)\n",
    "# create heatmap\n",
    "sns.heatmap(pd.DataFrame(cnf_matrix), annot=True, cmap=\"YlGnBu\" ,fmt='g')\n",
    "ax.xaxis.set_label_position(\"top\")\n",
    "plt.tight_layout()\n",
    "plt.title('Confusion matrix', y=1.1)\n",
    "plt.ylabel('Actual label')\n",
    "plt.xlabel('Predicted label')"
   ]
  },
  {
   "cell_type": "code",
   "execution_count": 69,
   "id": "optical-operation",
   "metadata": {},
   "outputs": [
    {
     "name": "stdout",
     "output_type": "stream",
     "text": [
      "              precision    recall  f1-score   support\n",
      "\n",
      "           0       1.00      0.91      0.95     14454\n",
      "           1       0.58      0.98      0.73      1919\n",
      "\n",
      "    accuracy                           0.92     16373\n",
      "   macro avg       0.79      0.94      0.84     16373\n",
      "weighted avg       0.95      0.92      0.92     16373\n",
      "\n"
     ]
    }
   ],
   "source": [
    "# Classification report for the optimised Log Regression\n",
    "log_opt.fit(X_train, y_train)\n",
    "print(classification_report(y_test, log_opt.predict(X_test)))"
   ]
  },
  {
   "cell_type": "code",
   "execution_count": 73,
   "id": "contemporary-attitude",
   "metadata": {},
   "outputs": [
    {
     "name": "stdout",
     "output_type": "stream",
     "text": [
      "AUC score: 0.9657599501839151\n"
     ]
    }
   ],
   "source": [
    "log_opt.fit(X_train, y_train) \n",
    "probs = log_opt.predict_proba(X_test) \n",
    "# probabilities for labeled inefficient point\n",
    "probs = probs[:, 1] \n",
    "logit_roc_auc = roc_auc_score(y_test, probs)\n",
    "print('AUC score: '+ str(logit_roc_auc))"
   ]
  },
  {
   "cell_type": "code",
   "execution_count": 74,
   "id": "frozen-pension",
   "metadata": {},
   "outputs": [
    {
     "name": "stdout",
     "output_type": "stream",
     "text": [
      "RandomForestClassifier(class_weight='balanced', max_depth=5,\n",
      "                       min_samples_split=6, random_state=42)\n",
      "0.8298273999652362\n"
     ]
    }
   ],
   "source": [
    "rf_clf = RandomForestClassifier(class_weight = \"balanced\",random_state=random_state)\n",
    "param_grid = {'n_estimators': [50, 75,100],\n",
    "              'min_samples_split':[2,4,6],\n",
    "              'min_samples_leaf': [1,2,3],\n",
    "              'max_depth': [5,10,15]}\n",
    "\n",
    "grid_obj = GridSearchCV(rf_clf,\n",
    "                        return_train_score=True,\n",
    "                        param_grid=param_grid,\n",
    "                        scoring='roc_auc',\n",
    "                        cv=5)\n",
    "\n",
    "grid_fit = grid_obj.fit(X_train, y_train)\n",
    "rf_opt = grid_fit.best_estimator_\n",
    "\n",
    "print(str(grid_obj.best_estimator_))\n",
    "print(grid_obj.best_score_)\n"
   ]
  },
  {
   "cell_type": "code",
   "execution_count": 75,
   "id": "musical-problem",
   "metadata": {},
   "outputs": [
    {
     "data": {
      "text/plain": [
       "Text(0.5, 257.44, 'Predicted label')"
      ]
     },
     "execution_count": 75,
     "metadata": {},
     "output_type": "execute_result"
    },
    {
     "data": {
      "image/png": "[encoded data removed]",
      "text/plain": [
       "<Figure size 432x288 with 2 Axes>"
      ]
     },
     "metadata": {
      "needs_background": "light"
     },
     "output_type": "display_data"
    }
   ],
   "source": [
    "## Confusion Matrix\n",
    "cnf_matrix = metrics.confusion_matrix(y_test, rf_opt.predict(X_test))\n",
    "class_names=[0,1]\n",
    "fig, ax = plt.subplots()\n",
    "tick_marks = np.arange(len(class_names))\n",
    "plt.xticks(tick_marks, class_names)\n",
    "plt.yticks(tick_marks, class_names)\n",
    "# create heatmap\n",
    "sns.heatmap(pd.DataFrame(cnf_matrix), annot=True, cmap=\"YlGnBu\" ,fmt='g')\n",
    "ax.xaxis.set_label_position(\"top\")\n",
    "plt.tight_layout()\n",
    "plt.title('Confusion matrix', y=1.1)\n",
    "plt.ylabel('Actual label')\n",
    "plt.xlabel('Predicted label')"
   ]
  },
  {
   "cell_type": "code",
   "execution_count": 76,
   "id": "missing-creation",
   "metadata": {},
   "outputs": [
    {
     "name": "stdout",
     "output_type": "stream",
     "text": [
      "              precision    recall  f1-score   support\n",
      "\n",
      "           0       0.97      0.92      0.94     14454\n",
      "           1       0.55      0.76      0.64      1919\n",
      "\n",
      "    accuracy                           0.90     16373\n",
      "   macro avg       0.76      0.84      0.79     16373\n",
      "weighted avg       0.92      0.90      0.91     16373\n",
      "\n"
     ]
    }
   ],
   "source": [
    "# Classification report for the optimised RF Regression\n",
    "rf_opt.fit(X_train, y_train)\n",
    "print(classification_report(y_test, rf_opt.predict(X_test)))\n"
   ]
  },
  {
   "cell_type": "code",
   "execution_count": 77,
   "id": "connected-planet",
   "metadata": {},
   "outputs": [
    {
     "name": "stdout",
     "output_type": "stream",
     "text": [
      "AUC score: 0.879\n"
     ]
    }
   ],
   "source": [
    "rf_opt.fit(X_train, y_train) \n",
    "probs = rf_opt.predict_proba(X_test) \n",
    "# probabilities for labeled inefficient point\n",
    "probs = probs[:, 1]\n",
    "rf_opt_roc_auc = roc_auc_score(y_test, probs)\n",
    "print('AUC score: %.3f' % rf_opt_roc_auc)"
   ]
  },
  {
   "cell_type": "code",
   "execution_count": 78,
   "id": "likely-temperature",
   "metadata": {},
   "outputs": [
    {
     "data": {
      "image/png": "[encoded data removed]",
      "text/plain": [
       "<Figure size 1008x432 with 1 Axes>"
      ]
     },
     "metadata": {
      "needs_background": "light"
     },
     "output_type": "display_data"
    }
   ],
   "source": [
    "# Create ROC Graph\n",
    "\n",
    "fpr, tpr, thresholds = roc_curve(y_test, log_opt.predict_proba(X_test)[:,1])\n",
    "rf_fpr, rf_tpr, rf_thresholds = roc_curve(y_test, rf_opt.predict_proba(X_test)[:,1])\n",
    "plt.figure(figsize=(14, 6))\n",
    "\n",
    "# Plot Logistic Regression ROC\n",
    "plt.plot(fpr, tpr, label='Logistic Regression (area = %0.2f)' % logit_roc_auc)\n",
    "# Plot Random Forest ROC\n",
    "plt.plot(rf_fpr, rf_tpr, label='Random Forest (area = %0.2f)' % rf_opt_roc_auc)\n",
    "# Plot Base Rate ROC\n",
    "plt.plot([0,1], [0,1],label='Base Rate' 'k--')\n",
    "\n",
    "plt.xlim([0.0, 1.0])\n",
    "plt.ylim([0.0, 1.05])\n",
    "plt.xlabel('False Positive Rate')\n",
    "plt.ylabel('True Positive Rate')\n",
    "plt.title('ROC Graph')\n",
    "plt.legend(loc=\"lower right\")\n",
    "plt.show()"
   ]
  },
  {
   "cell_type": "code",
   "execution_count": null,
   "id": "random-connectivity",
   "metadata": {},
   "outputs": [],
   "source": [
    "\n",
    "X_train = pd.read_csv('X_train.csv')\n",
    "X_test = pd.read_csv('X_test.csv')\n",
    "y_train = pd.read_csv('y_train.csv')\n",
    "y_test = pd.read_csv('y_test.csv')\n",
    "\n",
    "df_y_test = y_test.set_index('index').iloc[:,-1:]\n",
    "\n",
    "X_train = X_train.set_index('index')\n",
    "X_test = X_test.set_index('index')\n",
    "y_train = y_train.set_index('index').iloc[:,-1]\n",
    "y_test = y_test.set_index('index').iloc[:,-1]\n",
    "\n",
    "random_state = 42\n",
    "\n",
    "param_grid = {'C': np.arange(0.01, 2, 0.1)} # hyper-parameter list to fine-tune\n",
    "log_gs = GridSearchCV(LogisticRegression(solver='liblinear', # setting GridSearchCV\n",
    "                                         class_weight=\"balanced\",\n",
    "                                         random_state=random_state),\n",
    "                      return_train_score=True,\n",
    "                      param_grid=param_grid,\n",
    "                      scoring='roc_auc',\n",
    "                      cv=5)\n",
    "\n",
    "log_grid = log_gs.fit(X_train, y_train)\n",
    "log_opt = log_grid.best_estimator_\n",
    "results = log_gs.cv_results_\n",
    "\n",
    "\n",
    "log_opt.fit(X_train, y_train)\n",
    "\n",
    "labels = log_opt.predict(X_test)\n",
    "\n",
    "X_test['efficient'] = labels\n",
    "df_y_test_predict = X_test.iloc[:,-1:]\n",
    "\n",
    "\n",
    "data = pd.read_csv('data.csv')\n",
    "data_norm = pd.read_csv('data_norm.csv')\n",
    "\n",
    "key_feature = ['supplyTemp-0', 'waterDiff-0', 'indoorTemp-0', 'outdoorTemp-0']\n",
    "\n",
    "\n",
    "def plot(d,start_month):\n",
    "    chart_st = alt.Chart(d).mark_line(color='red').encode(x='createTime:T', y='supplyTemp-0').properties(width=3000)\n",
    "    chart_wd = alt.Chart(d).mark_line(color='blue').encode(x='createTime:T', y='waterDiff-0').properties(width=3000)\n",
    "    chart_it = alt.Chart(d).mark_line(color='orange').encode(x='createTime:T', y='indoorTemp-0').properties(width=3000)\n",
    "    chart_ot = alt.Chart(d).mark_line(color='green').encode(x='createTime:T', y='outdoorTemp-0').properties(width=3000)\n",
    "\n",
    "    chart_eff = alt.Chart(d[d['efficient'] == 1]).mark_circle(size=60,color='red').encode(x='createTime:T', y='outdoorTemp-0').properties(width=3000)\n",
    "\n",
    "    start = \"2021-07-01 00:00:00\"\n",
    "    end = \"2021-07-10 00:00:00\"\n",
    "\n",
    "    if (start_month == 8):\n",
    "        start = \"2021-08-01 00:00:00\"\n",
    "        end = \"2021-08-10 00:00:00\"\n",
    "    elif (start_month == 9):\n",
    "        start = \"2021-09-01 00:00:00\"\n",
    "        end = \"2021-09-10 00:00:00\"\n",
    "\n",
    "    source = [{\n",
    "        \"start\": start,\n",
    "        \"end\": end,\n",
    "        \"name\": \"train zone\"\n",
    "    }]\n",
    "\n",
    "    chart_train_zone = alt.Chart(pd.DataFrame(source)).mark_rect(color='green',opacity=0.3).encode(x='start:T', x2='end:T', color = 'name:O').properties(width=3000)\n",
    "    return chart_st + chart_wd + chart_it + chart_ot + chart_eff + chart_train_zone\n",
    "\n",
    "\n",
    "df_y_train = pd.DataFrame(y_train)\n",
    "\n",
    "df_y_test_predict.loc[:,'efficient'] = 0\n",
    "\n",
    "data_labeled = pd.merge(data,pd.concat([df_y_test_predict,df_y_train]),how = 'left', left_index=True, right_index=True)\n",
    "#data_labeled = pd.merge(data,pd.concat([df_y_test,df_y_train]),how = 'left', left_index=True, right_index=True)\n",
    "\n",
    "data_labeled['createTime'] = pd.to_datetime(data_labeled['createTime'])\n",
    "chart = alt.vconcat(plot(data_labeled.loc[(data_labeled['createTime'] >= dt.datetime(2021,7,1,0)) & (data_labeled['createTime'] < dt.datetime(2021,8,1,0))],7) ,\\\n",
    "                    plot(data_labeled.loc[(data_labeled['createTime'] >= dt.datetime(2021,8,1,0)) & (data_labeled['createTime'] < dt.datetime(2021,9,1,0))],8) ,\\\n",
    "                    plot(data_labeled.loc[(data_labeled['createTime'] >= dt.datetime(2021,9,1,0)) & (data_labeled['createTime'] < dt.datetime(2021,10,1,0))],9))\n",
    "\n",
    "chart.save('modeled.html')\n",
    "#chart.save('modeled_trained.html')"
   ]
  }
 ],
 "metadata": {
  "kernelspec": {
   "display_name": "Python 3",
   "language": "python",
   "name": "python3"
  },
  "language_info": {
   "codemirror_mode": {
    "name": "ipython",
    "version": 3
   },
   "file_extension": ".py",
   "mimetype": "text/x-python",
   "name": "python",
   "nbconvert_exporter": "python",
   "pygments_lexer": "ipython3",
   "version": "3.7.10"
  }
 },
 "nbformat": 4,
 "nbformat_minor": 5
}
